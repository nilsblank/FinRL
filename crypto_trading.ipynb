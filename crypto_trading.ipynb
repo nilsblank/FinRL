{
 "cells": [
  {
   "cell_type": "markdown",
   "metadata": {
    "collapsed": true,
    "pycharm": {
     "name": "#%% md\n"
    }
   },
   "source": [
    "Crypto Trading using FINRL Framework"
   ]
  },
  {
   "cell_type": "code",
   "execution_count": 68,
   "outputs": [],
   "source": [
    "import pandas as pd\n",
    "import numpy as np\n",
    "import matplotlib\n",
    "import matplotlib.pyplot as plt\n",
    "from sklearn import preprocessing\n",
    "\n",
    "matplotlib.use(\"Agg\")\n",
    "\n",
    "import ccxt\n",
    "import pandas\n",
    "import os\n",
    "from pathlib import Path\n",
    "import sys\n",
    "import csv\n",
    "import datetime\n",
    "\n",
    "from finrl.apps import config\n",
    "from finrl.neo_finrl.preprocessor.yahoodownloader import YahooDownloader\n",
    "from finrl.neo_finrl.preprocessor.preprocessors import FeatureEngineer, data_split\n",
    "from finrl.neo_finrl.env_stock_trading.env_stocktrading import StockTradingEnv\n",
    "from finrl.drl_agents.stablebaselines3.models import DRLAgent\n",
    "from finrl.plot import backtest_stats, backtest_plot, get_daily_return, get_baseline\n",
    "from finrl.neo_finrl.data_processors import processor_ccxt\n",
    "from finrl.neo_finrl.preprocessor.binancedownloader import *\n",
    "import finrl.neo_finrl.preprocessor.binancedownloader\n",
    "from finrl.neo_finrl.data_processors import processor_ccxt\n",
    "from finrl.neo_finrl.env_cryptocurrency_trading.env_btc_ccxt import BitcoinEnv\n",
    "\n",
    "\n",
    "import itertools"
   ],
   "metadata": {
    "collapsed": false,
    "pycharm": {
     "name": "#%%\n"
    }
   }
  },
  {
   "cell_type": "code",
   "execution_count": 39,
   "outputs": [
    {
     "name": "stdout",
     "output_type": "stream",
     "text": [
      "982 DOT/USDT candles in total from 2021-08-10T03:15:00.000Z to 2021-08-20T13:00:00.000Z\n",
      "1982 DOT/USDT candles in total from 2021-07-30T17:15:00.000Z to 2021-08-20T13:00:00.000Z\n"
     ]
    },
    {
     "ename": "NameError",
     "evalue": "name 'Path' is not defined",
     "output_type": "error",
     "traceback": [
      "\u001B[0;31m---------------------------------------------------------------------------\u001B[0m",
      "\u001B[0;31mNameError\u001B[0m                                 Traceback (most recent call last)",
      "\u001B[0;32m/tmp/ipykernel_36639/2066809389.py\u001B[0m in \u001B[0;36m<module>\u001B[0;34m\u001B[0m\n\u001B[1;32m      1\u001B[0m \u001B[0;31m#Download Data and save to /data\u001B[0m\u001B[0;34m\u001B[0m\u001B[0;34m\u001B[0m\u001B[0;34m\u001B[0m\u001B[0m\n\u001B[1;32m      2\u001B[0m \u001B[0;34m\u001B[0m\u001B[0m\n\u001B[0;32m----> 3\u001B[0;31m \u001B[0mscrape_candles_to_csv\u001B[0m\u001B[0;34m(\u001B[0m\u001B[0;34m'dot_usdt_15m.csv'\u001B[0m\u001B[0;34m,\u001B[0m \u001B[0;34m'binance'\u001B[0m\u001B[0;34m,\u001B[0m \u001B[0;36m3\u001B[0m\u001B[0;34m,\u001B[0m \u001B[0;34m'DOT/USDT'\u001B[0m\u001B[0;34m,\u001B[0m \u001B[0;34m'15m'\u001B[0m\u001B[0;34m,\u001B[0m \u001B[0;34m'2021-08-0100:00:00Z'\u001B[0m\u001B[0;34m,\u001B[0m\u001B[0mlimit\u001B[0m\u001B[0;34m=\u001B[0m\u001B[0;36m1000\u001B[0m\u001B[0;34m)\u001B[0m\u001B[0;34m\u001B[0m\u001B[0;34m\u001B[0m\u001B[0m\n\u001B[0m\u001B[1;32m      4\u001B[0m \u001B[0;34m\u001B[0m\u001B[0m\n",
      "\u001B[0;32m~/FinRL-Library/finrl/neo_finrl/preprocessor/binancedownloader.py\u001B[0m in \u001B[0;36mscrape_candles_to_csv\u001B[0;34m(filename, exchange_id, max_retries, symbol, timeframe, since, limit)\u001B[0m\n\u001B[1;32m     60\u001B[0m         \u001B[0msince\u001B[0m \u001B[0;34m=\u001B[0m \u001B[0mexchange\u001B[0m\u001B[0;34m.\u001B[0m\u001B[0mparse8601\u001B[0m\u001B[0;34m(\u001B[0m\u001B[0msince\u001B[0m\u001B[0;34m)\u001B[0m\u001B[0;34m\u001B[0m\u001B[0;34m\u001B[0m\u001B[0m\n\u001B[1;32m     61\u001B[0m     \u001B[0;31m# preload all markets from the exchange\u001B[0m\u001B[0;34m\u001B[0m\u001B[0;34m\u001B[0m\u001B[0;34m\u001B[0m\u001B[0m\n\u001B[0;32m---> 62\u001B[0;31m     \u001B[0mexchange\u001B[0m\u001B[0;34m.\u001B[0m\u001B[0mload_markets\u001B[0m\u001B[0;34m(\u001B[0m\u001B[0;34m)\u001B[0m\u001B[0;34m\u001B[0m\u001B[0;34m\u001B[0m\u001B[0m\n\u001B[0m\u001B[1;32m     63\u001B[0m     \u001B[0;31m# fetch all candles\u001B[0m\u001B[0;34m\u001B[0m\u001B[0;34m\u001B[0m\u001B[0;34m\u001B[0m\u001B[0m\n\u001B[1;32m     64\u001B[0m     \u001B[0mohlcv\u001B[0m \u001B[0;34m=\u001B[0m \u001B[0mscrape_ohlcv\u001B[0m\u001B[0;34m(\u001B[0m\u001B[0mexchange\u001B[0m\u001B[0;34m,\u001B[0m \u001B[0mmax_retries\u001B[0m\u001B[0;34m,\u001B[0m \u001B[0msymbol\u001B[0m\u001B[0;34m,\u001B[0m \u001B[0mtimeframe\u001B[0m\u001B[0;34m,\u001B[0m \u001B[0msince\u001B[0m\u001B[0;34m,\u001B[0m \u001B[0mlimit\u001B[0m\u001B[0;34m)\u001B[0m\u001B[0;34m\u001B[0m\u001B[0;34m\u001B[0m\u001B[0m\n",
      "\u001B[0;32m~/FinRL-Library/finrl/neo_finrl/preprocessor/binancedownloader.py\u001B[0m in \u001B[0;36mwrite_to_csv\u001B[0;34m(filename, exchange, data)\u001B[0m\n\u001B[1;32m     39\u001B[0m             \u001B[0;32mbreak\u001B[0m\u001B[0;34m\u001B[0m\u001B[0;34m\u001B[0m\u001B[0m\n\u001B[1;32m     40\u001B[0m     \u001B[0;32mreturn\u001B[0m \u001B[0mall_ohlcv\u001B[0m\u001B[0;34m\u001B[0m\u001B[0;34m\u001B[0m\u001B[0m\n\u001B[0;32m---> 41\u001B[0;31m \u001B[0;34m\u001B[0m\u001B[0m\n\u001B[0m\u001B[1;32m     42\u001B[0m \u001B[0;34m\u001B[0m\u001B[0m\n\u001B[1;32m     43\u001B[0m \u001B[0;32mdef\u001B[0m \u001B[0mwrite_to_csv\u001B[0m\u001B[0;34m(\u001B[0m\u001B[0mfilename\u001B[0m\u001B[0;34m,\u001B[0m \u001B[0mexchange\u001B[0m\u001B[0;34m,\u001B[0m \u001B[0mdata\u001B[0m\u001B[0;34m)\u001B[0m\u001B[0;34m:\u001B[0m\u001B[0;34m\u001B[0m\u001B[0;34m\u001B[0m\u001B[0m\n",
      "\u001B[0;31mNameError\u001B[0m: name 'Path' is not defined"
     ]
    }
   ],
   "source": [
    "#Download Data and save to /data\n",
    "\n",
    "scrape_candles_to_csv('dot_usdt_15m.csv', 'binance', 3, 'DOT/USDT', '15m', '2021-08-0100:00:00Z',limit=1000)"
   ],
   "metadata": {
    "collapsed": false,
    "pycharm": {
     "name": "#%%\n"
    }
   }
  },
  {
   "cell_type": "code",
   "execution_count": 13,
   "outputs": [
    {
     "name": "stdout",
     "output_type": "stream",
     "text": [
      "1000\n",
      "2000\n",
      "3000\n",
      "4000\n",
      "5000\n",
      "6000\n",
      "7000\n",
      "8000\n",
      "9000\n",
      "10000\n",
      "11000\n",
      "12000\n",
      "13000\n",
      "14000\n",
      "15000\n",
      "16000\n",
      "17000\n",
      "18000\n",
      "19000\n",
      "20000\n",
      "21000\n",
      "22000\n",
      "23000\n",
      "24000\n",
      "25000\n",
      "26000\n",
      "27000\n",
      "28000\n",
      "29000\n",
      "30000\n",
      "31000\n",
      "31995\n",
      "32990\n",
      "33985\n",
      "34980\n",
      "35975\n",
      "36970\n",
      "37965\n",
      "38960\n",
      "39955\n",
      "40950\n",
      "41945\n",
      "42945\n",
      "43945\n",
      "44945\n",
      "45945\n",
      "46945\n",
      "47945\n",
      "48945\n",
      "49945\n",
      "50945\n",
      "51945\n",
      "52945\n",
      "53945\n",
      "54939\n",
      "55933\n",
      "56927\n",
      "57921\n",
      "58915\n",
      "59909\n",
      "60903\n",
      "61897\n",
      "62891\n",
      "63885\n",
      "64879\n",
      "65879\n",
      "66879\n",
      "67879\n",
      "68879\n",
      "69879\n",
      "70879\n",
      "71879\n",
      "72879\n",
      "73879\n",
      "74879\n",
      "75879\n",
      "76879\n",
      "77879\n",
      "78879\n",
      "79879\n",
      "80879\n",
      "81879\n",
      "82879\n",
      "83879\n",
      "84879\n",
      "85879\n",
      "86879\n",
      "87879\n",
      "88879\n",
      "89879\n",
      "90879\n",
      "91879\n",
      "92879\n",
      "93879\n",
      "94879\n",
      "95879\n",
      "96879\n",
      "97879\n",
      "98879\n",
      "99869\n",
      "100859\n",
      "101849\n",
      "102839\n",
      "103829\n",
      "104801\n",
      "105773\n",
      "106745\n",
      "107717\n",
      "108689\n",
      "109661\n",
      "110643\n",
      "111625\n",
      "112607\n",
      "113589\n",
      "114571\n",
      "115571\n",
      "116571\n",
      "117571\n",
      "118571\n",
      "119571\n",
      "120571\n",
      "121571\n",
      "122571\n",
      "123571\n",
      "124571\n",
      "125571\n",
      "126571\n",
      "127571\n",
      "128571\n",
      "129571\n",
      "130571\n",
      "131571\n",
      "132571\n",
      "133571\n",
      "134571\n",
      "135571\n",
      "136571\n",
      "137571\n",
      "138571\n",
      "139571\n",
      "140571\n",
      "141571\n",
      "142571\n",
      "143571\n",
      "144571\n",
      "145571\n",
      "146571\n",
      "147571\n",
      "148571\n",
      "149571\n",
      "150571\n",
      "151571\n",
      "152571\n",
      "153571\n",
      "154571\n",
      "155571\n",
      "156571\n",
      "157571\n",
      "158571\n",
      "159571\n",
      "160571\n",
      "161571\n",
      "162571\n",
      "163571\n",
      "164571\n",
      "165571\n",
      "166571\n",
      "167571\n",
      "168571\n",
      "169571\n",
      "170571\n",
      "171571\n",
      "172571\n",
      "173571\n",
      "174571\n",
      "175571\n",
      "176571\n",
      "177571\n",
      "178571\n",
      "179571\n",
      "180571\n",
      "181571\n",
      "182571\n",
      "183571\n",
      "184571\n",
      "185571\n",
      "186571\n",
      "187571\n",
      "188571\n",
      "189571\n",
      "190571\n",
      "191571\n",
      "192571\n",
      "193571\n",
      "194571\n",
      "195571\n",
      "196571\n",
      "197571\n",
      "198571\n",
      "199571\n",
      "200571\n",
      "201571\n",
      "202571\n",
      "203571\n",
      "204571\n",
      "205571\n",
      "206571\n",
      "207571\n",
      "208571\n",
      "209571\n",
      "210571\n",
      "211571\n",
      "212571\n",
      "213571\n",
      "214553\n",
      "215535\n",
      "216517\n",
      "217499\n",
      "218481\n",
      "219463\n",
      "220445\n",
      "221427\n",
      "222324\n",
      "223125\n",
      "223830\n",
      "224457\n",
      "224988\n",
      "225423\n",
      "225762\n",
      "226005\n",
      "226152\n",
      "Actual end time: 2021-08-20T15:30:00.000000000\n"
     ]
    }
   ],
   "source": [
    "data_processor = processor_ccxt.CCXTEngineer()\n",
    "data = data_processor.data_fetch('20210101 01:00:00','20210820 01:00:00',period='15m',pair_list=['DOT/USDT'])"
   ],
   "metadata": {
    "collapsed": false,
    "pycharm": {
     "name": "#%%\n"
    }
   }
  },
  {
   "cell_type": "code",
   "execution_count": 58,
   "outputs": [
    {
     "name": "stdout",
     "output_type": "stream",
     "text": [
      "Succesfully add technical indicators\n"
     ]
    }
   ],
   "source": [
    "data_cleaned = data.drop_duplicates()\n",
    "data_indicators = data_processor.add_technical_indicators(data_cleaned,[\"DOT/USDT\"])"
   ],
   "metadata": {
    "collapsed": false,
    "pycharm": {
     "name": "#%%\n"
    }
   }
  },
  {
   "cell_type": "code",
   "execution_count": 59,
   "outputs": [],
   "source": [
    "data_indicators = data_indicators.fillna(0)\n",
    "data_indicators = data_indicators.replace(np.inf,0)\n",
    "#data_indicators[\"date\"] = data_indicators.index\n",
    "#data_indicators[\"tic\"] = \"DOT/USDT\""
   ],
   "metadata": {
    "collapsed": false,
    "pycharm": {
     "name": "#%%\n"
    }
   }
  },
  {
   "cell_type": "code",
   "execution_count": 60,
   "outputs": [],
   "source": [
    "def split_btc(df,start,end):\n",
    "    data = df[(df.index >= start) & (df.index < end)]\n",
    "    #data = data.sort_values([\"date\", \"tic\"], ignore_index=True)\n",
    "    return data"
   ],
   "metadata": {
    "collapsed": false,
    "pycharm": {
     "name": "#%%\n"
    }
   }
  },
  {
   "cell_type": "code",
   "execution_count": 61,
   "outputs": [],
   "source": [
    "train = split_btc(data_indicators, '2021-01-01','2021-07-01')\n",
    "trade = split_btc(data_indicators, '2021-07-01', '2021-08-20')"
   ],
   "metadata": {
    "collapsed": false,
    "pycharm": {
     "name": "#%%\n"
    }
   }
  },
  {
   "cell_type": "code",
   "execution_count": 62,
   "outputs": [],
   "source": [
    "tech_indicator_list=[\n",
    "        'macd', 'boll_ub', 'boll_lb', 'rsi_30', 'dx_30',\n",
    "        'close_30_sma', 'close_60_sma']"
   ],
   "metadata": {
    "collapsed": false,
    "pycharm": {
     "name": "#%%\n"
    }
   }
  },
  {
   "cell_type": "code",
   "execution_count": 63,
   "outputs": [
    {
     "data": {
      "text/plain": "(17321, 12)"
     },
     "execution_count": 63,
     "metadata": {},
     "output_type": "execute_result"
    }
   ],
   "source": [
    "train.shape"
   ],
   "metadata": {
    "collapsed": false,
    "pycharm": {
     "name": "#%%\n"
    }
   }
  },
  {
   "cell_type": "code",
   "execution_count": 67,
   "outputs": [],
   "source": [
    "stock_dimension = 1\n",
    "state_space = (\n",
    "    1\n",
    "    + 2 * stock_dimension\n",
    "    + len(tech_indicator_list) * stock_dimension\n",
    ")\n",
    "\n",
    "price_train_ary,tech_train_ary,date_train_ary = data_processor.df_to_ary(train,['DOT/USDT'])"
   ],
   "metadata": {
    "collapsed": false,
    "pycharm": {
     "name": "#%%\n"
    }
   }
  },
  {
   "cell_type": "code",
   "execution_count": 65,
   "outputs": [
    {
     "data": {
      "text/plain": "DatetimeIndex(['2021-01-01 02:00:00', '2021-01-01 02:15:00',\n               '2021-01-01 02:30:00', '2021-01-01 02:45:00',\n               '2021-01-01 03:00:00', '2021-01-01 03:15:00',\n               '2021-01-01 03:30:00', '2021-01-01 03:45:00',\n               '2021-01-01 04:00:00', '2021-01-01 04:15:00',\n               ...\n               '2021-06-30 21:30:00', '2021-06-30 21:45:00',\n               '2021-06-30 22:00:00', '2021-06-30 22:15:00',\n               '2021-06-30 22:30:00', '2021-06-30 22:45:00',\n               '2021-06-30 23:00:00', '2021-06-30 23:15:00',\n               '2021-06-30 23:30:00', '2021-06-30 23:45:00'],\n              dtype='datetime64[ns]', length=17321, freq=None)"
     },
     "execution_count": 65,
     "metadata": {},
     "output_type": "execute_result"
    }
   ],
   "source": [
    "e_train_gym = BitcoinEnv(price_ary=price_train_ary,tech_ary=tech_train_ary)"
   ],
   "metadata": {
    "collapsed": false,
    "pycharm": {
     "name": "#%%\n"
    }
   }
  },
  {
   "cell_type": "code",
   "execution_count": null,
   "outputs": [],
   "source": [],
   "metadata": {
    "collapsed": false,
    "pycharm": {
     "name": "#%%\n"
    }
   }
  }
 ],
 "metadata": {
  "kernelspec": {
   "display_name": "Python 3",
   "language": "python",
   "name": "python3"
  },
  "language_info": {
   "codemirror_mode": {
    "name": "ipython",
    "version": 2
   },
   "file_extension": ".py",
   "mimetype": "text/x-python",
   "name": "python",
   "nbconvert_exporter": "python",
   "pygments_lexer": "ipython2",
   "version": "2.7.6"
  }
 },
 "nbformat": 4,
 "nbformat_minor": 0
}